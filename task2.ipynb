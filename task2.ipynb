# CodSoft Task 2 – Movie Rating Prediction

# 1. Import necessary libraries
import pandas as pd
import numpy as np
import seaborn as sns
import matplotlib.pyplot as plt
from sklearn.model_selection import train_test_split
from sklearn.preprocessing import LabelEncoder
from sklearn.ensemble import RandomForestRegressor
from sklearn.metrics import mean_squared_error, r2_score

# 2. Create sample movie dataset
data = pd.DataFrame({
    'Title': ['Movie A', 'Movie B', 'Movie C', 'Movie D', 'Movie E'],
    'Genre': ['Action', 'Comedy', 'Action', 'Drama', 'Comedy'],
    'Director': ['Dir1', 'Dir2', 'Dir1', 'Dir3', 'Dir2'],
    'Actors': ['Act1,Act2', 'Act3,Act4', 'Act2,Act3', 'Act1,Act5', 'Act4,Act5'],
    'Budget': [100, 30, 75, 50, 45],
    'Rating': [8.2, 6.5, 7.8, 7.0, 6.8]
})

# Display the original dataset
print("Original Dataset:\n", data)

# 3. Drop the 'Title' column (not needed for prediction)
data = data.drop('Title', axis=1)

# 4. Encode categorical columns using LabelEncoder
le_genre = LabelEncoder()
le_director = LabelEncoder()
le_actors = LabelEncoder()

data['Genre'] = le_genre.fit_transform(data['Genre'])
data['Director'] = le_director.fit_transform(data['Director'])
data['Actors'] = le_actors.fit_transform(data['Actors'])

# Display encoded dataset
print("\nEncoded Dataset:\n", data)

# 5. Split data into features (X) and target (y)
X = data.drop('Rating', axis=1)
y = data['Rating']

# 6. Split data into training and test sets
X_train, X_test, y_train, y_test = train_test_split(X, y, test_size=0.2, random_state=42)

# 7. Train the model using RandomForestRegressor
model = RandomForestRegressor(n_estimators=100, random_state=42)
model.fit(X_train, y_train)

# 8. Make predictions
y_pred = model.predict(X_test)

# 9. Evaluate the model
mse = mean_squared_error(y_test, y_pred)
r2 = r2_score(y_test, y_pred)

print(f"\nMean Squared Error: {mse:.2f}")
print(f"R² Score: {r2:.2f}")

# 10. Visualize Actual vs Predicted ratings
plt.scatter(y_test, y_pred, color='blue')
plt.plot([min(y_test), max(y_test)], [min(y_test), max(y_test)], 'r--')
plt.xlabel('Actual Ratings')
plt.ylabel('Predicted Ratings')
plt.title('Actual vs Predicted Movie Ratings')
plt.grid(True)
plt.show()
